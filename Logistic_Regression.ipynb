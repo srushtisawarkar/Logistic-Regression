{
  "nbformat": 4,
  "nbformat_minor": 0,
  "metadata": {
    "colab": {
      "provenance": []
    },
    "kernelspec": {
      "name": "python3",
      "display_name": "Python 3"
    },
    "language_info": {
      "name": "python"
    }
  },
  "cells": [
    {
      "cell_type": "markdown",
      "source": [],
      "metadata": {
        "id": "hT-zA034g3n3"
      }
    },
    {
      "cell_type": "markdown",
      "source": [
        "Question 1: What is Logistic Regression, and how does it differ from Linear Regression?\n",
        "\n",
        ">>Answer:\n",
        "Logistic Regression is a classification algorithm used to predict categorical outcomes (e.g., Yes/No, Spam/Not Spam).\n",
        "It estimates the probability of a data point belonging to a class using the sigmoid function, which outputs values between 0 and 1.\n",
        "\n",
        "Differences from Linear Regression:\n",
        "\n",
        "- Purpose:\n",
        "\n",
        "Linear Regression → Predicts continuous values (e.g., price, temperature).\n",
        "\n",
        "Logistic Regression → Predicts probabilities for classification.\n",
        "\n",
        "- Output:\n",
        "\n",
        "Linear Regression → Produces real values (−∞ to +∞).\n",
        "\n",
        "Logistic Regression → Produces probabilities (0 to 1).\n",
        "\n",
        "- Function Used:\n",
        "\n",
        "Linear Regression → Uses a straight line equation.\n",
        "\n",
        "Logistic Regression → Uses a sigmoid function to map predictions.-"
      ],
      "metadata": {
        "id": "kP1GNolUaiUP"
      }
    },
    {
      "cell_type": "markdown",
      "source": [
        "Question 2: Explain the role of the Sigmoid function in Logistic Regression.\n",
        "\n",
        ">>Answer:\n",
        "The sigmoid function is defined as:\n",
        "\n",
        "σ(z)=1/1+e^-z\n",
        "\n",
        "It converts the linear combination of inputs into a probability value between 0 and 1.\n",
        "\n",
        "Helps decide the class:\n",
        "\n",
        "- If probability > 0.5 → Class 1.\n",
        "\n",
        "- If probability ≤ 0.5 → Class 0.\n",
        "\n",
        "Without sigmoid, Logistic Regression would behave like Linear Regression and not be useful for classification."
      ],
      "metadata": {
        "id": "Pp-I9kGKg_1s"
      }
    },
    {
      "cell_type": "markdown",
      "source": [
        "Question 3: What is Regularization in Logistic Regression and why is it needed?\n",
        "\n",
        ">>Answer:\n",
        "Regularization is a technique to prevent overfitting by adding a penalty to large coefficients in Logistic Regression.\n",
        "\n",
        "Types:\n",
        "\n",
        "L1 (Lasso): Encourages sparsity (some coefficients become zero).\n",
        "\n",
        "L2 (Ridge): Shrinks coefficients but keeps all nonzero.\n",
        "\n",
        "Why needed?\n",
        "\n",
        "Prevents the model from memorizing training data.\n",
        "\n",
        "Improves generalization on unseen data.\n",
        "\n",
        "Controls model complexity."
      ],
      "metadata": {
        "id": "ckhryS7OhEba"
      }
    },
    {
      "cell_type": "markdown",
      "source": [
        "Question 4: What are some common evaluation metrics for classification models, and why are they important?\n",
        "\n",
        ">>Answer:\n",
        "\n",
        "- Accuracy: % of correct predictions. (Good for balanced datasets).\n",
        "\n",
        "- Precision: Of predicted positives, how many are truly positive. (Useful in spam detection).\n",
        "\n",
        "- Recall (Sensitivity): Of actual positives, how many were detected. (Useful in medical tests).\n",
        "\n",
        "- F1 Score: Harmonic mean of precision & recall, balances both.\n",
        "\n",
        "- ROC-AUC: Measures the ability of the model to distinguish classes.\n",
        "\n",
        "Importance: These metrics ensure we evaluate models correctly, especially in imbalanced datasets where accuracy alone is misleading."
      ],
      "metadata": {
        "id": "rr4kqRK8hPAr"
      }
    },
    {
      "cell_type": "code",
      "source": [
        "#Question 5: Python program (basic Logistic Regression)\n",
        "import pandas as pd\n",
        "from sklearn.model_selection import train_test_split\n",
        "from sklearn.linear_model import LogisticRegression\n",
        "from sklearn.datasets import load_iris\n",
        "from sklearn.metrics import accuracy_score\n",
        "\n",
        "# Load dataset\n",
        "data = load_iris()\n",
        "X, y = data.data, data.target\n",
        "\n",
        "# Use only binary classification (two classes)\n",
        "X, y = X[y != 2], y[y != 2]\n",
        "\n",
        "# Split data\n",
        "X_train, X_test, y_train, y_test = train_test_split(X, y, test_size=0.3, random_state=42)\n",
        "\n",
        "# Train model\n",
        "model = LogisticRegression()\n",
        "model.fit(X_train, y_train)\n",
        "\n",
        "# Predict and evaluate\n",
        "y_pred = model.predict(X_test)\n",
        "print(\"Accuracy:\", accuracy_score(y_test, y_pred))"
      ],
      "metadata": {
        "colab": {
          "base_uri": "https://localhost:8080/"
        },
        "id": "QnCUk15VhUB_",
        "outputId": "9c0684f1-11e6-4935-a9aa-33656ed94ec8"
      },
      "execution_count": 1,
      "outputs": [
        {
          "output_type": "stream",
          "name": "stdout",
          "text": [
            "Accuracy: 1.0\n"
          ]
        }
      ]
    },
    {
      "cell_type": "code",
      "source": [
        "#Question 6: Logistic Regression with L2 Regularization (Ridge)\n",
        "\n",
        "from sklearn.linear_model import LogisticRegression\n",
        "\n",
        "# Train Logistic Regression with L2 regularization\n",
        "model = LogisticRegression(penalty='l2', solver='liblinear')\n",
        "model.fit(X_train, y_train)\n",
        "\n",
        "print(\"Model Coefficients:\", model.coef_)\n",
        "print(\"Accuracy:\", accuracy_score(y_test, model.predict(X_test)))"
      ],
      "metadata": {
        "colab": {
          "base_uri": "https://localhost:8080/"
        },
        "id": "o5wq2nfyhWvO",
        "outputId": "ffbdaa47-0412-43ba-ba9b-3d0e080ca83c"
      },
      "execution_count": 2,
      "outputs": [
        {
          "output_type": "stream",
          "name": "stdout",
          "text": [
            "Model Coefficients: [[-0.35865859 -1.36186707  2.09037258  0.94442534]]\n",
            "Accuracy: 1.0\n"
          ]
        }
      ]
    },
    {
      "cell_type": "code",
      "source": [
        "#Question 7: Logistic Regression (Multiclass with One-vs-Rest)\n",
        "from sklearn.metrics import classification_report\n",
        "\n",
        "# Train Logistic Regression for multiclass\n",
        "model = LogisticRegression(multi_class='ovr', max_iter=200)\n",
        "model.fit(X_train, y_train)\n",
        "\n",
        "# Predict\n",
        "y_pred = model.predict(X_test)\n",
        "\n",
        "print(\"Classification Report:\\n\", classification_report(y_test, y_pred))"
      ],
      "metadata": {
        "colab": {
          "base_uri": "https://localhost:8080/"
        },
        "id": "c1PazOAVhalI",
        "outputId": "234ee9d7-548f-4d14-bde5-af6f07f920a0"
      },
      "execution_count": 3,
      "outputs": [
        {
          "output_type": "stream",
          "name": "stderr",
          "text": [
            "/usr/local/lib/python3.12/dist-packages/sklearn/linear_model/_logistic.py:1256: FutureWarning: 'multi_class' was deprecated in version 1.5 and will be removed in 1.7. Use OneVsRestClassifier(LogisticRegression(..)) instead. Leave it to its default value to avoid this warning.\n",
            "  warnings.warn(\n"
          ]
        },
        {
          "output_type": "stream",
          "name": "stdout",
          "text": [
            "Classification Report:\n",
            "               precision    recall  f1-score   support\n",
            "\n",
            "           0       1.00      1.00      1.00        17\n",
            "           1       1.00      1.00      1.00        13\n",
            "\n",
            "    accuracy                           1.00        30\n",
            "   macro avg       1.00      1.00      1.00        30\n",
            "weighted avg       1.00      1.00      1.00        30\n",
            "\n"
          ]
        }
      ]
    },
    {
      "cell_type": "code",
      "source": [
        "#Question 8: Logistic Regression with GridSearchCV\n",
        "from sklearn.model_selection import GridSearchCV\n",
        "\n",
        "# Define parameter grid\n",
        "param_grid = {\n",
        "    'C': [0.01, 0.1, 1, 10],\n",
        "    'penalty': ['l1', 'l2']\n",
        "}\n",
        "\n",
        "# Logistic Regression with GridSearchCV\n",
        "grid = GridSearchCV(LogisticRegression(solver='liblinear'), param_grid, cv=5)\n",
        "grid.fit(X_train, y_train)\n",
        "\n",
        "print(\"Best Parameters:\", grid.best_params_)\n",
        "print(\"Validation Accuracy:\", grid.best_score_)\n"
      ],
      "metadata": {
        "colab": {
          "base_uri": "https://localhost:8080/"
        },
        "id": "vbwjNPKwhfM-",
        "outputId": "9095bc9a-a39e-4bb4-f352-c49b276de461"
      },
      "execution_count": 4,
      "outputs": [
        {
          "output_type": "stream",
          "name": "stdout",
          "text": [
            "Best Parameters: {'C': 0.01, 'penalty': 'l2'}\n",
            "Validation Accuracy: 1.0\n"
          ]
        }
      ]
    },
    {
      "cell_type": "code",
      "source": [
        "#Question 9: Standardization Effect\n",
        "\n",
        "from sklearn.preprocessing import StandardScaler\n",
        "\n",
        "# Without scaling\n",
        "model = LogisticRegression(max_iter=200)\n",
        "model.fit(X_train, y_train)\n",
        "print(\"Accuracy without scaling:\", accuracy_score(y_test, model.predict(X_test)))\n",
        "\n",
        "# With scaling\n",
        "scaler = StandardScaler()\n",
        "X_train_scaled = scaler.fit_transform(X_train)\n",
        "X_test_scaled = scaler.transform(X_test)\n",
        "\n",
        "model_scaled = LogisticRegression(max_iter=200)\n",
        "model_scaled.fit(X_train_scaled, y_train)\n",
        "print(\"Accuracy with scaling:\", accuracy_score(y_test, model_scaled.predict(X_test_scaled)))"
      ],
      "metadata": {
        "colab": {
          "base_uri": "https://localhost:8080/"
        },
        "id": "9salENhchnbj",
        "outputId": "0004f373-bdff-4856-c7ff-d95eb87887a6"
      },
      "execution_count": 5,
      "outputs": [
        {
          "output_type": "stream",
          "name": "stdout",
          "text": [
            "Accuracy without scaling: 1.0\n",
            "Accuracy with scaling: 1.0\n"
          ]
        }
      ]
    },
    {
      "cell_type": "markdown",
      "source": [
        "Question 10: Real-world E-commerce Case (Imbalanced Dataset)\n",
        ">>Answer:\n",
        "For predicting customer response (only 5% positive cases), the steps:\n",
        "\n",
        "1. Data Handling:\n",
        "\n",
        "Remove duplicates, handle missing values, encode categorical features.\n",
        "\n",
        "2. Feature Scaling:\n",
        "\n",
        "Standardize features using StandardScaler for stable model training.\n",
        "\n",
        "3. Balancing Classes:\n",
        "\n",
        "Use SMOTE (oversampling) or class weights in Logistic Regression.\n",
        "\n",
        "Example: LogisticRegression(class_weight='balanced').\n",
        "\n",
        "4. Hyperparameter Tuning:\n",
        "\n",
        "Tune C (regularization strength) and penalty using GridSearchCV.\n",
        "\n",
        "5. Evaluation Metrics:\n",
        "\n",
        "Use Precision, Recall, F1-score, ROC-AUC (not just accuracy).\n",
        "\n",
        "Focus on Recall to capture maximum responders.\n",
        "\n",
        "6. Business Impact:\n",
        "\n",
        "Helps target only likely responders, saving marketing cost and improving ROI."
      ],
      "metadata": {
        "id": "s67Vwb3nexuU"
      }
    }
  ]
}